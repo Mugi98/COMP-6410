{
 "cells": [
  {
   "cell_type": "markdown",
   "id": "eee818b4",
   "metadata": {},
   "source": [
    "## Practical: week 6\n",
    "\n"
   ]
  },
  {
   "cell_type": "markdown",
   "id": "ce75b9f6-0ea0-4bf5-8832-57ca5ca2a624",
   "metadata": {},
   "source": [
    "#### Blocks World Planner: Goal Stack Planning\n",
    "\n",
    "This notebook implements a simplified planner for the Blocks World domain using goal stack planning. You'll explore symbolic reasoning, STRIPS-style actions, and planning logic. Some parts are left incomplete for you to implement and experiment wi themt\n",
    "\n",
    "Goal Stack Planning (also called Means-End Analysis) is a non-linear planning algorithm that uses backward chaining to find a plan to get to the goal state from the initial state.\n",
    "It uses a stack to manage goals and subgoals. It starts from the goal by pushing it onto the stack and works backwards to find actions whose effects achieve it.\n",
    "\n",
    "The main approach of Goal Stack Planning: \n",
    "\n",
    "<ol>\n",
    "    <li>\n",
    "        Initialize the stack with the goal state.\n",
    "    </li>\n",
    "\n",
    "\n",
    "<li> Pop the top goal from the stack.\n",
    "</li>\n",
    "<li> If it’s a compound goal (e.g., conjunction), push each subgoal.\n",
    "</li>\n",
    "<li> If it’s a predicate, check if it’s satisfied in the current state:\n",
    "<ul>\n",
    "    <li> If yes, do nothing.\n",
    "<li> If no, find an action that achieves it and push the preconditions of the action and the action itself onto the stack:\n",
    "</ul>\n",
    "</li>\n",
    "<li> Apply actions when their preconditions are satisfied.\n",
    "</li>\n",
    "<li> Repeat until the stack is empty.\n",
    "    </li>\n",
    "</ol>\n",
    "\n",
    "For example, for the Blocks World, if the initial state is \n",
    "on(A, B), on(B, table), clear(A), clear(C), on(C, table), handempty \n",
    "and the goal is \n",
    "on(CA,)h.\n"
   ]
  },
  {
   "cell_type": "markdown",
   "id": "5a23db1e-4b00-4709-88d3-ea2a3e5ffd9a",
   "metadata": {},
   "source": [
    "### Initial State and Goal\n",
    "\n",
    "For example, for the Blocks World, suppose that the initial state is described by the following state predicates: \n",
    "<ul>\n",
    "    on(A, B), on(B, table), clear(A), clear(C), on(C, table), handempty \n",
    "</ul>\n",
    "and the goal state is descibed by the state predicate we would like to be true: on(C, A).\n",
    "\n",
    " You need to complete the code when you **pass**."
   ]
  },
  {
   "cell_type": "code",
   "execution_count": 54,
   "id": "69c3313d",
   "metadata": {},
   "outputs": [],
   "source": [
    "# Initial state: initial_state = {'on(A, B)',...}\n",
    "initial_state = {\n",
    "    'on(A,B)',\n",
    "    'ontable(B)',\n",
    "    'ontable(C)',\n",
    "    'clear(A)',\n",
    "    'clear(C)',\n",
    "    'handempty'\n",
    "}\n",
    "\n",
    "# Goal state: goal_state = [...] \n",
    "goal_state = [\n",
    "    'on(C, A)'\n",
    "]\n",
    "        "
   ]
  },
  {
   "cell_type": "markdown",
   "id": "f777fcc6-c419-4a2f-8261-c08f8f608304",
   "metadata": {},
   "source": [
    "#### STRIPS-style Action Definitions\n",
    "\n",
    "The STRIPS representation specifies when an action can occur and what the effects of the action are. STRIPS, which stands for “STanford Research Institute Problem Solver,” was the planner used in Shakey, one of the first robots built using AI technology.\n",
    "\n",
    "\n",
    "The STRIPS representation for an action consi of\n",
    "sts<ul>\n",
    "    <li> the precondition, a set of assignments of values to features that must hold for the action to occur, and</li>\n",
    "\n",
    "   <li> the effect, a set of assignments of values to primitive features that specifies the features that change, and the values they change to, as the result of the action.</li>\n",
    "\n",
    "<>\n",
    "\n",
    "on.\n",
    "The precondition of an action is a proposition – the conjunction of the elements of the set – that must be true before the action is able to be carried out. In terms of constraints, the robot is constrained so it can only choose an action for which the preconditio\n",
    "\n",
    "For the Blocks World, we have the following STRIPS-representations of four actions, pickup(x), putdown(x), unstack(x, y) and stack(x, y). The preconditions and effects of some of the actions are defined belowTo simplify planning, we  we assume here that the arm can only picka block if it is already on the table. This means that in the initial state given above, the arm would need to take the unstack(C,A) action and put down (C) on table before it can do the pickup(C) action. Without this assumption, we would need to consider two different sets of preconditions for pickup(A) as A could be on table or it could be on another bloclds."
   ]
  },
  {
   "cell_type": "markdown",
   "id": "aa11e47b-8f2f-44a9-8456-bd0747e13da5",
   "metadata": {},
   "source": [
    "# STRIPS-style actions\n",
    "\n",
    "Complete the descriptions of the two missing actions of putdown and unstack."
   ]
  },
  {
   "cell_type": "code",
   "execution_count": 55,
   "id": "acbe004e-7550-4e53-aca1-5d165b0ac811",
   "metadata": {},
   "outputs": [],
   "source": [
    "# STRIPS-style actions\n",
    "actions = {\n",
    "    'pickup': {\n",
    "        'pre': ['clear(x)', 'ontable(x)', 'handempty'],\n",
    "        'add': ['holding(x)'],\n",
    "        'del': ['ontable(x)', 'clear(x)', 'handempty']\n",
    "    },\n",
    "    'putdown': {\n",
    "        'pre': ['holding()'],\n",
    "        'add': ['ontable(x)', 'clear(x)','handempty'],\n",
    "        'del': ['holding(x)']\n",
    "    },\n",
    "    'unstack': {\n",
    "        'pre': ['on(x, y)', 'clear(x)', 'handempty'],\n",
    "        'add': ['holding(x)', 'clear(y)'],\n",
    "        'del': ['on(x, y)', 'clear(x)', 'handempty']\n",
    "    },\n",
    "    'stake':{\n",
    "        'pre':['holding(x)', 'clear'],\n",
    "        'add':['on(x,y)','clear', 'handempty'],\n",
    "        'del':['holding(x)', 'clear(y)']\n",
    "    }\n",
    "}"
   ]
  },
  {
   "cell_type": "markdown",
   "id": "cbdd55d7-a813-468a-aebf-672cbf620fed",
   "metadata": {},
   "source": [
    "### Symbolic Unification\n",
    "\n",
    "The symbolic unification function takes a template like on(x, y) and replaces the variables x and y with actual arguments, say C and A, producing on(C, A). \n",
    "\n",
    "This allows abstract action schemas to be instantiated with concrete block names. "
   ]
  },
  {
   "cell_type": "code",
   "execution_count": 56,
   "id": "2f003a07",
   "metadata": {},
   "outputs": [],
   "source": [
    "# Symbolic unification\n",
    "def unify(template, args):\n",
    "    result = template\n",
    "    if 'x' in template:\n",
    "        result = result.replace('x', args[0])\n",
    "    if 'y' in template and len(args) > 1:\n",
    "        result = result.replace('y', args[1])\n",
    "    return result"
   ]
  },
  {
   "cell_type": "markdown",
   "id": "b203c775-752e-4f9b-ad3a-5126b99efa41",
   "metadata": {},
   "source": [
    "### Action Application\n",
    "\n",
    "Action application checks whether an action like pickup(C) can be performed in the current state. It does this by:\n",
    "<ol>\n",
    "    <li>Unifying the action’s preconditions (e.g., clear(x), ontable(x), handempty) with the actual arguments (such as C), producing instantiated conditions like clear(C).\n",
    "</li>\n",
    "    <li> Verifying that all these conditions are present in the current state so that the action can be taken.</li>\n",
    "    <li>If they are, it updates the state by removing the delete effects and adding the add effects — simulating the result of executing the action on the given state.</li>\n",
    "    <li>It also returns a string like pickup(C) to record the action step in the plan.</li>\n",
    "</ol>\n"
   ]
  },
  {
   "cell_type": "code",
   "execution_count": 57,
   "id": "b9555868",
   "metadata": {},
   "outputs": [],
   "source": [
    "# Apply action to state\n",
    "def apply_action(action_name, args, state):\n",
    "    action = actions[action_name]\n",
    "    pre = [unify(p, args) for p in action['pre']]\n",
    "    add = [unify(p, args) for p in action['add']]\n",
    "    delete = [unify(p, args) for p in action['del']]\n",
    "\n",
    "    if all(p in state for p in pre):\n",
    "        state = (state - set(delete)) | set(add)\n",
    "        return state, f\"{action_name}({', '.join(args)})\"\n",
    "    else:\n",
    "        print(f\"Skipped invalid action: {action_name}({', '.join(args)}) — preconditions not met.\")\n",
    "        return None, None"
   ]
  },
  {
   "cell_type": "markdown",
   "id": "150b2dbf-12c4-4a37-a595-883ebc1653c6",
   "metadata": {},
   "source": [
    "### Goal Stack Planner with Backtracking\n",
    "\n",
    "The goal stack planner a depth-first planner that builds a plan by resolving goals from the top down. It is a recursive, backward-chaining procedure that breaks down high-level goals into subgoals and executable actions. It works by:\n",
    "\n",
    "<ol>\n",
    "  <li>\n",
    "     Popping a goal from the stack and checking if it’s already satisfied in the current state. \n",
    "  </li> \n",
    " <li>\n",
    "If not, it decomposes the goal into either:\n",
    "actions like pickup(C) or stack(A, B) that can be executed if their preconditions are met;\n",
    "or predicate subgoals like clear(A) or holding(C) that must be satisfied first before the actionas can be taken.\n",
    " <li>\n",
    "These subgoals are pushed onto the stack, and the planner recursively works through them.\n",
    " <li>\n",
    "When an action is executed, it updates the state and records the action in the plan.\n",
    " <li>\n",
    "If a goal cannot be satisfied, it backtracks to a previous state and tries a different path. \n",
    "</ol>\n"
   ]
  },
  {
   "cell_type": "code",
   "execution_count": 58,
   "id": "a48b3db0",
   "metadata": {},
   "outputs": [],
   "source": [
    "# Goal stack planner\n",
    "def goal_stack_planner(initial_state, goal_state):\n",
    "    from copy import deepcopy\n",
    "\n",
    "    goal_stack = goal_state.copy()\n",
    "    history = []\n",
    "    current_state = deepcopy(initial_state)\n",
    "    plan = []\n",
    "\n",
    "    while goal_stack:\n",
    "        goal = goal_stack.pop()\n",
    "\n",
    "        print(f\"Processing goal: {goal}\")\n",
    "        print(f\"Current state: {current_state}\")\n",
    "        print(f\"Goal stack: {goal_stack}\")\n",
    "        print(f\"Plan so far: {plan}\")\n",
    "        print(\"------\")\n",
    "\n",
    "        if goal in current_state:\n",
    "            continue\n",
    "        # Action execution\n",
    "        if '(' in goal and goal.endswith(')'):\n",
    "            action_name = goal[:goal.index('(')]\n",
    "            args = goal[goal.index('(')+1:-1].split(', ')\n",
    "            if action_name in actions:\n",
    "                new_state, action_str = apply_action(action_name, args, current_state)\n",
    "                if new_state:\n",
    "                    current_state = new_state\n",
    "                    plan.append(action_str)\n",
    "                    continue\n",
    "                elif history:\n",
    "                    current_state, goal_stack, plan = history.pop()\n",
    "                    continue\n",
    "                else:\n",
    "                    print(\"No valid plan found.\")\n",
    "                    return []\n",
    "\n",
    "        # Save state for backtracking\n",
    "        history.append((deepcopy(current_state), deepcopy(goal_stack), deepcopy(plan)))\n",
    "\n",
    "        # Predicate goals\n",
    "        if goal.startswith('on('):\n",
    "            x, y = goal[3:-1].split(', ')\n",
    "            goal_stack.extend([f'stack({x}, {y})', f'holding({x})', f'clear({y})'])\n",
    "\n",
    "        elif goal.startswith('holding('):\n",
    "            x = goal[8:-1]\n",
    "            if f'ontable({x})' in current_state:\n",
    "                goal_stack.extend([f'pickup({x})', f'clear({x})', f'ontable({x})', 'handempty'])\n",
    "            else:\n",
    "                for fact in current_state:\n",
    "                    if fact.startswith(f'on({x}, '):\n",
    "                        y = fact[3:-1].split(', ')[1]\n",
    "                        goal_stack.extend([f'unstack({x}, {y})', f'on({x}, {y})', f'clear({x})', 'handempty'])\n",
    "                        break\n",
    "\n",
    "        elif goal.startswith('clear('):\n",
    "            x = goal[6:-1]\n",
    "            for fact in current_state:\n",
    "                if fact.startswith('on(') and fact.endswith(f', {x})'):\n",
    "                    y = fact[3:-1].split(', ')[0]\n",
    "                    goal_stack.extend([f'unstack({y}, {x})'])\n",
    "                    break\n",
    "\n",
    "        elif goal.startswith('ontable('):\n",
    "            x = goal[8:-1]\n",
    "            if f'holding({x})' in current_state:\n",
    "                goal_stack.extend([f'putdown({x})'])\n",
    "\n",
    "        elif goal == 'handempty':\n",
    "            for fact in current_state:\n",
    "                if fact.startswith('holding('):\n",
    "                    x = fact[8:-1]\n",
    "                    goal_stack.extend([f'putdown({x})'])\n",
    "                    break\n",
    "\n",
    "    return plan"
   ]
  },
  {
   "cell_type": "markdown",
   "id": "3e8d5010-7507-4969-abf2-9ce9a248f24a",
   "metadata": {},
   "source": [
    "### Run the Planner"
   ]
  },
  {
   "cell_type": "code",
   "execution_count": 59,
   "id": "cf14a1c0",
   "metadata": {},
   "outputs": [
    {
     "name": "stdout",
     "output_type": "stream",
     "text": [
      "Processing goal: on(C, A)\n",
      "Current state: {'on(A,B)', 'ontable(B)', 'ontable(C)', 'clear(A)', 'handempty', 'clear(C)'}\n",
      "Goal stack: []\n",
      "Plan so far: []\n",
      "------\n",
      "Processing goal: clear(A)\n",
      "Current state: {'on(A,B)', 'ontable(B)', 'ontable(C)', 'clear(A)', 'handempty', 'clear(C)'}\n",
      "Goal stack: ['stack(C, A)', 'holding(C)']\n",
      "Plan so far: []\n",
      "------\n",
      "Processing goal: holding(C)\n",
      "Current state: {'on(A,B)', 'ontable(B)', 'ontable(C)', 'clear(A)', 'handempty', 'clear(C)'}\n",
      "Goal stack: ['stack(C, A)']\n",
      "Plan so far: []\n",
      "------\n",
      "Processing goal: handempty\n",
      "Current state: {'on(A,B)', 'ontable(B)', 'ontable(C)', 'clear(A)', 'handempty', 'clear(C)'}\n",
      "Goal stack: ['stack(C, A)', 'pickup(C)', 'clear(C)', 'ontable(C)']\n",
      "Plan so far: []\n",
      "------\n",
      "Processing goal: ontable(C)\n",
      "Current state: {'on(A,B)', 'ontable(B)', 'ontable(C)', 'clear(A)', 'handempty', 'clear(C)'}\n",
      "Goal stack: ['stack(C, A)', 'pickup(C)', 'clear(C)']\n",
      "Plan so far: []\n",
      "------\n",
      "Processing goal: clear(C)\n",
      "Current state: {'on(A,B)', 'ontable(B)', 'ontable(C)', 'clear(A)', 'handempty', 'clear(C)'}\n",
      "Goal stack: ['stack(C, A)', 'pickup(C)']\n",
      "Plan so far: []\n",
      "------\n",
      "Processing goal: pickup(C)\n",
      "Current state: {'on(A,B)', 'ontable(B)', 'ontable(C)', 'clear(A)', 'handempty', 'clear(C)'}\n",
      "Goal stack: ['stack(C, A)']\n",
      "Plan so far: []\n",
      "------\n",
      "Processing goal: stack(C, A)\n",
      "Current state: {'holding(C)', 'ontable(B)', 'clear(A)', 'on(A,B)'}\n",
      "Goal stack: []\n",
      "Plan so far: ['pickup(C)']\n",
      "------\n",
      "Generated Plan:\n",
      "pickup(C)\n"
     ]
    }
   ],
   "source": [
    "plan = goal_stack_planner(initial_state, goal_state)\n",
    "\n",
    "print(\"Generated Plan:\")\n",
    "for step in plan:\n",
    "    print(step)\n"
   ]
  },
  {
   "cell_type": "code",
   "execution_count": 60,
   "id": "00d75d35-05cf-4a04-8ecc-836ef2c7cccf",
   "metadata": {},
   "outputs": [
    {
     "name": "stdout",
     "output_type": "stream",
     "text": [
      "Attempting plan with goal ordering: ['on(A, B)', 'on(C, A)']\n",
      "Processing goal: on(C,A)\n",
      "Current state: {'on(A,B)', 'ontable(B)', 'ontable(C)', 'clear(A)', 'handempty', 'clear(C)'}\n",
      "Goal stack: ['on(A,B)']\n",
      "Plan so far: []\n",
      "------\n"
     ]
    },
    {
     "ename": "ValueError",
     "evalue": "not enough values to unpack (expected 2, got 1)",
     "output_type": "error",
     "traceback": [
      "\u001b[0;31m---------------------------------------------------------------------------\u001b[0m",
      "\u001b[0;31mValueError\u001b[0m                                Traceback (most recent call last)",
      "Cell \u001b[0;32mIn[60], line 4\u001b[0m\n\u001b[1;32m      1\u001b[0m \u001b[38;5;66;03m# Compound goal ordering 1\u001b[39;00m\n\u001b[1;32m      2\u001b[0m \u001b[38;5;28mprint\u001b[39m(\u001b[38;5;124m\"\u001b[39m\u001b[38;5;124mAttempting plan with goal ordering: [\u001b[39m\u001b[38;5;124m'\u001b[39m\u001b[38;5;124mon(A, B)\u001b[39m\u001b[38;5;124m'\u001b[39m\u001b[38;5;124m, \u001b[39m\u001b[38;5;124m'\u001b[39m\u001b[38;5;124mon(C, A)\u001b[39m\u001b[38;5;124m'\u001b[39m\u001b[38;5;124m]\u001b[39m\u001b[38;5;124m\"\u001b[39m)\n\u001b[0;32m----> 4\u001b[0m plan2 \u001b[38;5;241m=\u001b[39m goal_stack_planner(initial_state, [\u001b[38;5;124m'\u001b[39m\u001b[38;5;124mon(A,B)\u001b[39m\u001b[38;5;124m'\u001b[39m,\u001b[38;5;124m'\u001b[39m\u001b[38;5;124mon(C,A)\u001b[39m\u001b[38;5;124m'\u001b[39m])\n\u001b[1;32m      6\u001b[0m \u001b[38;5;28mprint\u001b[39m(\u001b[38;5;124m\"\u001b[39m\u001b[38;5;124mPlan with ordering [\u001b[39m\u001b[38;5;124m'\u001b[39m\u001b[38;5;124mon(A, B)\u001b[39m\u001b[38;5;124m'\u001b[39m\u001b[38;5;124m, \u001b[39m\u001b[38;5;124m'\u001b[39m\u001b[38;5;124mon(C, A)\u001b[39m\u001b[38;5;124m'\u001b[39m\u001b[38;5;124m]:\u001b[39m\u001b[38;5;124m\"\u001b[39m)\n\u001b[1;32m      8\u001b[0m \u001b[38;5;28;01mfor\u001b[39;00m step \u001b[38;5;129;01min\u001b[39;00m plan2:\n",
      "Cell \u001b[0;32mIn[58], line 43\u001b[0m, in \u001b[0;36mgoal_stack_planner\u001b[0;34m(initial_state, goal_state)\u001b[0m\n\u001b[1;32m     41\u001b[0m \u001b[38;5;66;03m# Predicate goals\u001b[39;00m\n\u001b[1;32m     42\u001b[0m \u001b[38;5;28;01mif\u001b[39;00m goal\u001b[38;5;241m.\u001b[39mstartswith(\u001b[38;5;124m'\u001b[39m\u001b[38;5;124mon(\u001b[39m\u001b[38;5;124m'\u001b[39m):\n\u001b[0;32m---> 43\u001b[0m     x, y \u001b[38;5;241m=\u001b[39m goal[\u001b[38;5;241m3\u001b[39m:\u001b[38;5;241m-\u001b[39m\u001b[38;5;241m1\u001b[39m]\u001b[38;5;241m.\u001b[39msplit(\u001b[38;5;124m'\u001b[39m\u001b[38;5;124m, \u001b[39m\u001b[38;5;124m'\u001b[39m)\n\u001b[1;32m     44\u001b[0m     goal_stack\u001b[38;5;241m.\u001b[39mextend([\u001b[38;5;124mf\u001b[39m\u001b[38;5;124m'\u001b[39m\u001b[38;5;124mstack(\u001b[39m\u001b[38;5;132;01m{\u001b[39;00mx\u001b[38;5;132;01m}\u001b[39;00m\u001b[38;5;124m, \u001b[39m\u001b[38;5;132;01m{\u001b[39;00my\u001b[38;5;132;01m}\u001b[39;00m\u001b[38;5;124m)\u001b[39m\u001b[38;5;124m'\u001b[39m, \u001b[38;5;124mf\u001b[39m\u001b[38;5;124m'\u001b[39m\u001b[38;5;124mholding(\u001b[39m\u001b[38;5;132;01m{\u001b[39;00mx\u001b[38;5;132;01m}\u001b[39;00m\u001b[38;5;124m)\u001b[39m\u001b[38;5;124m'\u001b[39m, \u001b[38;5;124mf\u001b[39m\u001b[38;5;124m'\u001b[39m\u001b[38;5;124mclear(\u001b[39m\u001b[38;5;132;01m{\u001b[39;00my\u001b[38;5;132;01m}\u001b[39;00m\u001b[38;5;124m)\u001b[39m\u001b[38;5;124m'\u001b[39m])\n\u001b[1;32m     46\u001b[0m \u001b[38;5;28;01melif\u001b[39;00m goal\u001b[38;5;241m.\u001b[39mstartswith(\u001b[38;5;124m'\u001b[39m\u001b[38;5;124mholding(\u001b[39m\u001b[38;5;124m'\u001b[39m):\n",
      "\u001b[0;31mValueError\u001b[0m: not enough values to unpack (expected 2, got 1)"
     ]
    }
   ],
   "source": [
    "# Compound goal ordering 1\n",
    "print(\"Attempting plan with goal ordering: ['on(A, B)', 'on(C, A)']\")\n",
    "\n",
    "plan2 = goal_stack_planner(initial_state, ['on(A,B)','on(C,A)'])\n",
    "\n",
    "print(\"Plan with ordering ['on(A, B)', 'on(C, A)']:\")\n",
    "\n",
    "for step in plan2:\n",
    "    print(step)"
   ]
  },
  {
   "cell_type": "code",
   "execution_count": 49,
   "id": "cdfea41d-897e-47b6-914f-43b3ecfd71f5",
   "metadata": {},
   "outputs": [
    {
     "name": "stdout",
     "output_type": "stream",
     "text": [
      "Attempting plan with goal ordering: ['on(C, A)', 'on(A, B)']\n",
      "Processing goal: on(A,B)\n",
      "Current state: {'on(A,B)', 'ontable(B)', 'ontable(C)', 'clear(A)', 'handempty', 'clear(C)'}\n",
      "Goal stack: ['on(C,A)']\n",
      "Plan so far: []\n",
      "------\n",
      "Processing goal: on(C,A)\n",
      "Current state: {'on(A,B)', 'ontable(B)', 'ontable(C)', 'clear(A)', 'handempty', 'clear(C)'}\n",
      "Goal stack: []\n",
      "Plan so far: []\n",
      "------\n"
     ]
    },
    {
     "ename": "ValueError",
     "evalue": "not enough values to unpack (expected 2, got 1)",
     "output_type": "error",
     "traceback": [
      "\u001b[0;31m---------------------------------------------------------------------------\u001b[0m",
      "\u001b[0;31mValueError\u001b[0m                                Traceback (most recent call last)",
      "Cell \u001b[0;32mIn[49], line 4\u001b[0m\n\u001b[1;32m      1\u001b[0m \u001b[38;5;66;03m# Compound goal ordering 2\u001b[39;00m\n\u001b[1;32m      2\u001b[0m \u001b[38;5;28mprint\u001b[39m(\u001b[38;5;124m\"\u001b[39m\u001b[38;5;124mAttempting plan with goal ordering: [\u001b[39m\u001b[38;5;124m'\u001b[39m\u001b[38;5;124mon(C, A)\u001b[39m\u001b[38;5;124m'\u001b[39m\u001b[38;5;124m, \u001b[39m\u001b[38;5;124m'\u001b[39m\u001b[38;5;124mon(A, B)\u001b[39m\u001b[38;5;124m'\u001b[39m\u001b[38;5;124m]\u001b[39m\u001b[38;5;124m\"\u001b[39m)\n\u001b[0;32m----> 4\u001b[0m plan1 \u001b[38;5;241m=\u001b[39m goal_stack_planner(initial_state, [\u001b[38;5;124m'\u001b[39m\u001b[38;5;124mon(C,A)\u001b[39m\u001b[38;5;124m'\u001b[39m,\u001b[38;5;124m'\u001b[39m\u001b[38;5;124mon(A,B)\u001b[39m\u001b[38;5;124m'\u001b[39m])\n\u001b[1;32m      6\u001b[0m \u001b[38;5;28mprint\u001b[39m(\u001b[38;5;124m\"\u001b[39m\u001b[38;5;124mPlan with ordering [\u001b[39m\u001b[38;5;124m'\u001b[39m\u001b[38;5;124mon(C, A)\u001b[39m\u001b[38;5;124m'\u001b[39m\u001b[38;5;124m, \u001b[39m\u001b[38;5;124m'\u001b[39m\u001b[38;5;124mon(A, B)\u001b[39m\u001b[38;5;124m'\u001b[39m\u001b[38;5;124m]:\u001b[39m\u001b[38;5;124m\"\u001b[39m)\n\u001b[1;32m      8\u001b[0m \u001b[38;5;28;01mfor\u001b[39;00m step \u001b[38;5;129;01min\u001b[39;00m plan1:\n",
      "Cell \u001b[0;32mIn[45], line 43\u001b[0m, in \u001b[0;36mgoal_stack_planner\u001b[0;34m(initial_state, goal_state)\u001b[0m\n\u001b[1;32m     41\u001b[0m \u001b[38;5;66;03m# Predicate goals\u001b[39;00m\n\u001b[1;32m     42\u001b[0m \u001b[38;5;28;01mif\u001b[39;00m goal\u001b[38;5;241m.\u001b[39mstartswith(\u001b[38;5;124m'\u001b[39m\u001b[38;5;124mon(\u001b[39m\u001b[38;5;124m'\u001b[39m):\n\u001b[0;32m---> 43\u001b[0m     x, y \u001b[38;5;241m=\u001b[39m goal[\u001b[38;5;241m3\u001b[39m:\u001b[38;5;241m-\u001b[39m\u001b[38;5;241m1\u001b[39m]\u001b[38;5;241m.\u001b[39msplit(\u001b[38;5;124m'\u001b[39m\u001b[38;5;124m, \u001b[39m\u001b[38;5;124m'\u001b[39m)\n\u001b[1;32m     44\u001b[0m     goal_stack\u001b[38;5;241m.\u001b[39mextend([\u001b[38;5;124mf\u001b[39m\u001b[38;5;124m'\u001b[39m\u001b[38;5;124mstack(\u001b[39m\u001b[38;5;132;01m{\u001b[39;00mx\u001b[38;5;132;01m}\u001b[39;00m\u001b[38;5;124m, \u001b[39m\u001b[38;5;132;01m{\u001b[39;00my\u001b[38;5;132;01m}\u001b[39;00m\u001b[38;5;124m)\u001b[39m\u001b[38;5;124m'\u001b[39m, \u001b[38;5;124mf\u001b[39m\u001b[38;5;124m'\u001b[39m\u001b[38;5;124mholding(\u001b[39m\u001b[38;5;132;01m{\u001b[39;00mx\u001b[38;5;132;01m}\u001b[39;00m\u001b[38;5;124m)\u001b[39m\u001b[38;5;124m'\u001b[39m, \u001b[38;5;124mf\u001b[39m\u001b[38;5;124m'\u001b[39m\u001b[38;5;124mclear(\u001b[39m\u001b[38;5;132;01m{\u001b[39;00my\u001b[38;5;132;01m}\u001b[39;00m\u001b[38;5;124m)\u001b[39m\u001b[38;5;124m'\u001b[39m])\n\u001b[1;32m     46\u001b[0m \u001b[38;5;28;01melif\u001b[39;00m goal\u001b[38;5;241m.\u001b[39mstartswith(\u001b[38;5;124m'\u001b[39m\u001b[38;5;124mholding(\u001b[39m\u001b[38;5;124m'\u001b[39m):\n",
      "\u001b[0;31mValueError\u001b[0m: not enough values to unpack (expected 2, got 1)"
     ]
    }
   ],
   "source": [
    "# Compound goal ordering 2\n",
    "print(\"Attempting plan with goal ordering: ['on(C, A)', 'on(A, B)']\")\n",
    "\n",
    "plan1 = goal_stack_planner(initial_state, ['on(C,A)','on(A,B)'])\n",
    "\n",
    "print(\"Plan with ordering ['on(C, A)', 'on(A, B)']:\")\n",
    "\n",
    "for step in plan1:\n",
    "    print(step)"
   ]
  },
  {
   "cell_type": "markdown",
   "id": "c65c6b1c-ae3e-48c4-ab9e-83607fc89596",
   "metadata": {},
   "source": [
    "### Next Steps You Might Explore\n",
    "\n",
    "Introduce a goal that requires undoing a satisfied fact, like clear(B) when A is on B, and generate a plan.\n",
    "\n",
    "Add a compound goal that temporarily conflicts, e.g., on(C, A) and clear(A) and generate a plan. Why does this plan violate clear(A)? How could we fix it?"
   ]
  },
  {
   "cell_type": "code",
   "execution_count": null,
   "id": "6e6550ca-bc18-4bfc-b417-aba8c949af77",
   "metadata": {},
   "outputs": [],
   "source": []
  }
 ],
 "metadata": {
  "kernelspec": {
   "display_name": "base",
   "language": "python",
   "name": "python3"
  },
  "language_info": {
   "codemirror_mode": {
    "name": "ipython",
    "version": 3
   },
   "file_extension": ".py",
   "mimetype": "text/x-python",
   "name": "python",
   "nbconvert_exporter": "python",
   "pygments_lexer": "ipython3",
   "version": "3.12.7"
  }
 },
 "nbformat": 4,
 "nbformat_minor": 5
}

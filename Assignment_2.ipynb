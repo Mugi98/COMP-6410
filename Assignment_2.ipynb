{
 "cells": [
  {
   "cell_type": "markdown",
   "id": "ecbfa1db",
   "metadata": {},
   "source": [
    "# Assignment 2 — Biologically Inspired Optimization, Adversarial Search, and Game-Theoretic Decision Making\n",
    "\n",
    "COMP3410/6410 2025 S2\n",
    "\n",
    "**Weight**: 30% (30 marks)  \n",
    "**Due**: 11:55pm Friday Week 11  \n",
    "**Submission**: **This single Jupyter Notebook** (runs end-to-end). \n",
    "\n",
    "**Unit Learning Outcomes (assessed):**\n",
    "- **ULO1**: Describe the roles of various search techniques in AI and use appropriate tools to implement them.\n",
    "- **ULO3**: Explain biologically inspired algorithms and their roles in AI, and implement such algorithms in different contexts including adversarial games. \n",
    "\n",
    "**How to use this notebook**\n",
    "> 1. Fill in the markdown cells for your answers of theory, analysis, reflection.\n",
    "> 2. Implement your solutions (GA, ACO, adversarial search, one-shot/repeated games) in code cells.\n",
    "> 3. Ensure the notebook is fully reproducible: `Kernel → Restart & Run All` should complete without errors and regenerate your results.\n",
    "> 4. Replace all **TODO(you)** placeholders with your own work.\n",
    "> 5. Fix a random seed (and state it) for comparability of plots/tables.\n",
    "> 6. Keep everything self-contained (no external files or internet calls); include any small helper data you need inside the notebook.\n",
    "> 7. Show key plots/tables (convergence curves, payoff matrices, trajectories) inline and briefly explain what each shows.\n",
    "> 8. Use clear headings and short captions so your logic is easy to follow.\n",
    "\n",
    "**Submission checklist**\n",
    "\n",
    "- [ ] All required sections completed (markdown + code).\n",
    "- [ ] Seeds set and documented; results reproducible with Run-All.\n",
    "- [ ] Plots/tables included and labeled.\n",
    "- [ ] No errors on a clean run; outputs visible.\n",
    "- [ ] Academic integrity: all sources (if any) cited; work is your own."
   ]
  },
  {
   "cell_type": "markdown",
   "id": "f7b0112f",
   "metadata": {},
   "source": [
    "# Student Information\n",
    "- **Name**: _TODO(you)_ \n",
    "- **Student ID**: _TODO(you)_ \n",
    "- **Email**: _TODO(you)_ \n",
    "---"
   ]
  },
  {
   "cell_type": "markdown",
   "id": "6cce65e1",
   "metadata": {},
   "source": [
    "# 0 Assignment Global Variables\n",
    "## 0.1 Import Modules"
   ]
  },
  {
   "cell_type": "code",
   "execution_count": 1,
   "id": "86061e2c",
   "metadata": {},
   "outputs": [],
   "source": [
    "# Reproducibility & basic imports\n",
    "# TODO(you) add any into this cell that you may need\n",
    "import random, math, statistics, itertools, functools, time\n",
    "from dataclasses import dataclass, field\n",
    "from typing import List, Tuple, Dict, Any, Optional\n",
    "import numpy as np\n",
    "\n",
    "# plotting\n",
    "import matplotlib.pyplot as plt\n",
    "\n",
    "from dataclasses import dataclass\n",
    "from typing import List, Tuple, Dict\n",
    "import math"
   ]
  },
  {
   "cell_type": "markdown",
   "id": "affd399c",
   "metadata": {},
   "source": [
    "If you get a ModuleNotFoundError (e.g., No module named 'matplotlib')\n",
    "- Use the next cell to install the missing package(s) into the current environment (e.g., pip install matplotlib).\n",
    "- After it finishes, comment out the install line(s) to avoid re-installing every run (e.g., # pip install matplotlib).\n",
    "- Return to the above imports cell and run it again (or use Kernel → Restart & Run All to be safe)."
   ]
  },
  {
   "cell_type": "code",
   "execution_count": null,
   "id": "89cf5636",
   "metadata": {
    "scrolled": true
   },
   "outputs": [],
   "source": [
    "# pip install matplotlib"
   ]
  },
  {
   "cell_type": "markdown",
   "id": "30f72d5d",
   "metadata": {},
   "source": [
    "## 0.2 Reproducibility & Random Seeds — read me first\n",
    "\n",
    "Your algorithms (GA, ACO, search sampling, etc.) use randomness. To make your results reproducible (so markers can rerun and get the same numbers/plots), we control the random generators with a seed.\n",
    "- `GLOBAL_SEED` is the single source of truth for your notebook’s randomness.\n",
    "- `random.seed(...)` and `np.random.seed(...)` initialise the Python and NumPy random number generators.\n",
    "- `set_seed(seed)` is a helper you can call at the top of any experiment to lock in a specific seed and print it for the log.\n",
    "\n",
    "**How you should use it (your TODO)**\n",
    "- At the start of the notebook (or before an experiment block), call: `set_seed(42)  # TODO(you): choose a seed and keep it consistent for your main results`.\n",
    "- When you run multiple experiments (e.g., sensitivity analysis), either:\n",
    "  - keep the seed fixed to compare algorithmic changes fairly, or\n",
    "  - vary seeds intentionally and report the list of seeds you used (e.g., 5 runs with seeds [1, 2, 3, 4, 5]) and show mean ± std.\n",
    "  \n",
    "**When to change the seed**\n",
    "- Change the seed only when you **intend to sample a different random run**, e.g., to show robustness.\n",
    "- For your **primary results** (tables/plots in the report), keep one seed so outputs are exactly reproducible."
   ]
  },
  {
   "cell_type": "code",
   "execution_count": 2,
   "id": "ed52b3b2",
   "metadata": {},
   "outputs": [],
   "source": [
    "# Set a global seed for reproducibility (you may change this but keep it logged)\n",
    "GLOBAL_SEED = 42\n",
    "random.seed(GLOBAL_SEED)\n",
    "np.random.seed(GLOBAL_SEED)\n",
    "\n",
    "def set_seed(seed:int=42):\n",
    "    global GLOBAL_SEED\n",
    "    GLOBAL_SEED = seed\n",
    "    random.seed(seed)\n",
    "    np.random.seed(seed)\n",
    "    print(f\"Seed set to {seed}\")"
   ]
  },
  {
   "cell_type": "markdown",
   "id": "a1d6c76a",
   "metadata": {},
   "source": [
    "# 1 Project Narrative\n",
    "\n",
    "You work for a **drone delivery company** operating under battery and time-window constraints and competing with a rival fleet. This is a generalisation of the Traveling Salesman Problem (TSP), known as the **Capacitated Vehicle Routing Problem with Time Windows (CVRPTW)**. Unlike TSP, it involves constraints and multiple routes.\n",
    "\n",
    "A drone delivery company must schedule operations each day:\n",
    "- A fleet of drones must deliver packages to multiple locations.\n",
    "- Each drone has a battery capacity limit (maximum distance it can travel before recharging).\n",
    "- Each location has a time window when delivery is allowed (e.g., between 09:00–12:00).\n",
    "\n",
    "This project is completed in three parts inside one notebook: \n",
    "1. **Biologically Inspired Optimization (GA & ACO)** for CVRPTW.\n",
    "2. **Adversarial Search** (Negamax Plus $\\alpha–\\beta$ pruning) in competitive routing.\n",
    "3. **Game-Theoretic Analysis** (payoff matrices, equilibria, repeated games). "
   ]
  },
  {
   "cell_type": "markdown",
   "id": "455b9958",
   "metadata": {},
   "source": [
    "## 1.1 Dataset\n",
    "\n",
    "This assignment uses one fixed dataset for the entire project. **Do not modify any values.**\n",
    "\n",
    "- Depot parameters: number of drones, per-drone battery budget (distance units), travel speed, operating day horizon.\n",
    "- Requests: coordinates `(x, y)`, time window `[tw_start, tw_end]` in minutes (from 00:00), service time, and demand (use 1 unless extending capacity).\n",
    "\n",
    "**How to use the dataset**: Use `INSTANCE` everywhere for data in all parts (GA/ACO, adversarial search engine, payoff construction). If you need distances, use `euclid((x1,y1),(x2,y2))`."
   ]
  },
  {
   "cell_type": "code",
   "execution_count": 3,
   "id": "f1692518",
   "metadata": {},
   "outputs": [
    {
     "name": "stdout",
     "output_type": "stream",
     "text": [
      "Loaded INSTANCE 'Main': requests=20, drones=4, battery=100.0, horizon=(480.0,1140.0)\n"
     ]
    }
   ],
   "source": [
    "# === OFFICIAL SINGLE DATASET (INLINE, DO NOT MODIFY) ==========================\n",
    "\n",
    "@dataclass\n",
    "class Request:\n",
    "    id: int\n",
    "    x: float\n",
    "    y: float\n",
    "    tw_start: float   # minutes from 00:00 (e.g., 540 = 09:00)\n",
    "    tw_end: float\n",
    "    service: float    # minutes\n",
    "    demand: int       # use 1 if not modeling capacity beyond battery\n",
    "\n",
    "@dataclass\n",
    "class Instance:\n",
    "    name: str\n",
    "    depot: Tuple[float, float]\n",
    "    drones: int\n",
    "    battery: float\n",
    "    speed: float\n",
    "    day_start: float\n",
    "    day_end: float\n",
    "    requests: List[Request]\n",
    "\n",
    "def build_instance(name: str, spec: Dict) -> Instance:\n",
    "    d = spec[\"depot\"]\n",
    "    inst = Instance(\n",
    "        name=name,\n",
    "        depot=(float(d[\"x\"]), float(d[\"y\"])),\n",
    "        drones=int(d[\"drones\"]),\n",
    "        battery=float(d[\"battery\"]),\n",
    "        speed=float(d[\"speed\"]),\n",
    "        day_start=float(d[\"day_start\"]),\n",
    "        day_end=float(d[\"day_end\"]),\n",
    "        requests=[\n",
    "            Request(\n",
    "                id=int(r[\"id\"]),\n",
    "                x=float(r[\"x\"]), y=float(r[\"y\"]),\n",
    "                tw_start=float(r[\"tw_start\"]), tw_end=float(r[\"tw_end\"]),\n",
    "                service=float(r[\"service\"]), demand=int(r.get(\"demand\", 1))\n",
    "            ) for r in spec[\"requests\"]\n",
    "        ],\n",
    "    )\n",
    "    # Basic validation\n",
    "    assert inst.drones > 0 and inst.battery > 0 and inst.speed > 0, f\"{name}: invalid drones/battery/speed\"\n",
    "    assert inst.day_start < inst.day_end, f\"{name}: invalid day horizon\"\n",
    "    ids = set()\n",
    "    for q in inst.requests:\n",
    "        assert q.id != 0, f\"{name}: request id 0 reserved for depot\"\n",
    "        assert q.tw_start < q.tw_end, f\"{name}: request {q.id} has invalid time window\"\n",
    "        assert q.id not in ids, f\"{name}: duplicate request id {q.id}\"\n",
    "        ids.add(q.id)\n",
    "    inst.requests.sort(key=lambda q: q.id)\n",
    "    return inst\n",
    "\n",
    "# Official single instance (20 requests)\n",
    "OFFICIAL = {\n",
    "    \"depot\": {\n",
    "        \"x\": 50.0, \"y\": 50.0,\n",
    "        \"drones\": 4, \"battery\": 100.0, \"speed\": 1.0,\n",
    "        \"day_start\": 480.0,    # 08:00\n",
    "        \"day_end\": 1140.0,     # 19:00\n",
    "    },\n",
    "    \"requests\": [\n",
    "        # north-west cluster\n",
    "        {\"id\": 1,  \"x\": 20.0, \"y\": 82.0, \"tw_start\": 540.0, \"tw_end\": 660.0, \"service\": 6.0, \"demand\": 1},\n",
    "        {\"id\": 2,  \"x\": 28.0, \"y\": 76.0, \"tw_start\": 585.0, \"tw_end\": 720.0, \"service\": 6.0, \"demand\": 1},\n",
    "        {\"id\": 3,  \"x\": 34.0, \"y\": 70.0, \"tw_start\": 600.0, \"tw_end\": 690.0, \"service\": 6.0, \"demand\": 1},\n",
    "        {\"id\": 4,  \"x\": 18.0, \"y\": 65.0, \"tw_start\": 560.0, \"tw_end\": 660.0, \"service\": 6.0, \"demand\": 1},\n",
    "        {\"id\": 5,  \"x\": 26.0, \"y\": 58.0, \"tw_start\": 630.0, \"tw_end\": 750.0, \"service\": 6.0, \"demand\": 1},\n",
    "\n",
    "        # north-east cluster\n",
    "        {\"id\": 6,  \"x\": 72.0, \"y\": 82.0, \"tw_start\": 570.0, \"tw_end\": 660.0, \"service\": 6.0, \"demand\": 1},\n",
    "        {\"id\": 7,  \"x\": 80.0, \"y\": 76.0, \"tw_start\": 600.0, \"tw_end\": 720.0, \"service\": 6.0, \"demand\": 1},\n",
    "        {\"id\": 8,  \"x\": 66.0, \"y\": 70.0, \"tw_start\": 585.0, \"tw_end\": 690.0, \"service\": 6.0, \"demand\": 1},\n",
    "        {\"id\": 9,  \"x\": 78.0, \"y\": 64.0, \"tw_start\": 615.0, \"tw_end\": 735.0, \"service\": 6.0, \"demand\": 1},\n",
    "        {\"id\": 10, \"x\": 70.0, \"y\": 60.0, \"tw_start\": 540.0, \"tw_end\": 630.0, \"service\": 6.0, \"demand\": 1},\n",
    "\n",
    "        # south-east cluster\n",
    "        {\"id\": 11, \"x\": 78.0, \"y\": 40.0, \"tw_start\": 660.0, \"tw_end\": 780.0, \"service\": 6.0, \"demand\": 1},\n",
    "        {\"id\": 12, \"x\": 72.0, \"y\": 28.0, \"tw_start\": 600.0, \"tw_end\": 720.0, \"service\": 6.0, \"demand\": 1},\n",
    "        {\"id\": 13, \"x\": 66.0, \"y\": 22.0, \"tw_start\": 585.0, \"tw_end\": 690.0, \"service\": 6.0, \"demand\": 1},\n",
    "        {\"id\": 14, \"x\": 62.0, \"y\": 34.0, \"tw_start\": 540.0, \"tw_end\": 630.0, \"service\": 6.0, \"demand\": 1},\n",
    "        {\"id\": 15, \"x\": 70.0, \"y\": 18.0, \"tw_start\": 690.0, \"tw_end\": 810.0, \"service\": 6.0, \"demand\": 1},\n",
    "\n",
    "        # south-west cluster\n",
    "        {\"id\": 16, \"x\": 30.0, \"y\": 24.0, \"tw_start\": 600.0, \"tw_end\": 720.0, \"service\": 6.0, \"demand\": 1},\n",
    "        {\"id\": 17, \"x\": 24.0, \"y\": 18.0, \"tw_start\": 585.0, \"tw_end\": 690.0, \"service\": 6.0, \"demand\": 1},\n",
    "        {\"id\": 18, \"x\": 36.0, \"y\": 16.0, \"tw_start\": 660.0, \"tw_end\": 780.0, \"service\": 6.0, \"demand\": 1},\n",
    "        {\"id\": 19, \"x\": 40.0, \"y\": 32.0, \"tw_start\": 540.0, \"tw_end\": 630.0, \"service\": 6.0, \"demand\": 1},\n",
    "        {\"id\": 20, \"x\": 22.0, \"y\": 30.0, \"tw_start\": 615.0, \"tw_end\": 735.0, \"service\": 6.0, \"demand\": 1},\n",
    "    ],\n",
    "}\n",
    "\n",
    "INSTANCE = build_instance(\"Main\", OFFICIAL)\n",
    "\n",
    "# convenience helpers\n",
    "def euclid(a: Tuple[float,float], b: Tuple[float,float]) -> float:\n",
    "    return math.hypot(a[0]-b[0], a[1]-b[1])\n",
    "\n",
    "print(f\"Loaded INSTANCE '{INSTANCE.name}': \"\n",
    "      f\"requests={len(INSTANCE.requests)}, drones={INSTANCE.drones}, battery={INSTANCE.battery}, \"\n",
    "      f\"horizon=({INSTANCE.day_start},{INSTANCE.day_end})\")\n",
    "assert len(INSTANCE.requests) == 20, \"INSTANCE must have 20 requests\""
   ]
  },
  {
   "cell_type": "markdown",
   "id": "f0815db3",
   "metadata": {},
   "source": [
    "## 1.2 Metrics & Payoff (read first, then implement)\n",
    "\n",
    "You’ll define a single source of truth for evaluation so the same logic is reused across GA/ACO, adversarial search, game-theory payoff tables.\n",
    "\n",
    "**What you must measure (routing metrics)**\n",
    "- **Total distance**: Sum of Euclidean travel for each drone route (including depot → first and last → depot).\n",
    "- **Energy cost**: Distance × `ENERGY_PER_UNIT` (constant you define).\n",
    "- On-time services vs late services:\n",
    "    - Each served request has an **arrival time** (minutes from day start).\n",
    "    - A service is **on time** if `arrival_time ≤ tw_end`. It may wait if arriving before `tw_start` (waiting is allowed and costs time, not distance).\n",
    "    - A service is **late** if `arrival_time > tw_end` (discouraged; see penalties).\n",
    "- **Unserved requests**: Requests that never appear in any drone’s route.\n",
    "- Constraint violations (if you treat constraints as “hard”):\n",
    "    - **Battery**: Total route distance per drone must be `≤ INSTANCE.battery`.\n",
    "    - **Day horizon**: A drone must finish before `INSTANCE.day_end` (and not depart before `INSTANCE.day_start`).\n",
    "    - **Time windows**: Decide your policy:\n",
    "        - _Hard_: disallow late services; routes causing lateness are invalid.\n",
    "        - _Soft_: allow lateness but penalise it (preferred for graded comparability).\n",
    "- Makespan / total time (optional, but useful for analysis): The latest finish time across drones.\n",
    "\n",
    "- **Payoff (used for game analysis)**: `revenue−energy_cost−late_penalties−unserved_penalties−violation_penalties (if any)`. \n",
    "    - **Revenue**: e.g., `REVENUE_PER_SERVICE × (# of served requests)` (Optionally weight by zones or time-of-day, but keep it linear.)\n",
    "    - **Energy cost**: `ENERGY_PER_UNIT × total_distance`\n",
    "    - **Late penalties** (soft windows): e.g., `LATE_PENALTY_PER_MIN × total_late_minutes`\n",
    "    - **Unserved penalties**: e.g., `UNSERVED_PENALTY_PER_REQ × (# unserved)`\n",
    "    - **Violation penalties** (if you permit “invalid” routes to return a finite score): very large constants to dominate the objective, or simply reject invalid routes and return `-inf`.\n",
    "    \n",
    "Edge-cases you must handle:\n",
    "- Empty route for a drone (allowed).\n",
    "- Multiple drones may visit the same request only if you count it once; simplest is: disallow duplicates across all routes.\n",
    "- If you treat time windows as hard: a single late service invalidates the route (or entire solution) — be explicit.\n",
    "\n",
    "Tip: Keep your definitions consistent across all parts. Keep the payoff linear/transparent. Avoid nonlinear squashes (e.g., tanh) because they break expectation properties you’ll rely on in adversarial search, game theory."
   ]
  },
  {
   "cell_type": "markdown",
   "id": "fd065bde",
   "metadata": {},
   "source": [
    "TODO(you) \n",
    "\n",
    "Reporting expectations (what to show in your notebook)\n",
    "\n",
    "- A short table for your chosen constants.\n",
    "- One example evaluation call showing the full metrics dict for a simple 2–3 route solution.\n",
    "- A 2–3 sentence justification for soft vs hard time-window choice and battery policy.\n",
    "- Confirm that the same evaluator is used in Part 1 (GA/ACO fitness), Part 2 (adversarial search), and Part 3 (payoff matrices)."
   ]
  },
  {
   "cell_type": "code",
   "execution_count": null,
   "id": "28dc5a88",
   "metadata": {},
   "outputs": [
    {
     "ename": "",
     "evalue": "",
     "output_type": "error",
     "traceback": [
      "\u001b[1;31mThe Kernel crashed while executing code in the current cell or a previous cell. \n",
      "\u001b[1;31mPlease review the code in the cell(s) to identify a possible cause of the failure. \n",
      "\u001b[1;31mClick <a href='https://aka.ms/vscodeJupyterKernelCrash'>here</a> for more info. \n",
      "\u001b[1;31mView Jupyter <a href='command:jupyter.viewOutput'>log</a> for further details."
     ]
    }
   ],
   "source": [
    "# code TODO(you) to implement Metrics & Payoff\n",
    "# help you to start...\n",
    "# tune once, reuse everywhere\n",
    "REVENUE_PER_SERVICE      = 10.0\n",
    "ENERGY_PER_UNIT          = 1.0        # cost per distance unit\n",
    "LATE_PENALTY_PER_MIN     = 0.5        # soft window penalty\n",
    "UNSERVED_PENALTY_PER_REQ = 15.0\n",
    "VIOLATION_PENALTY        = 10_000.0   # if you decide to score invalid schedules\n",
    "# You can adjust magnitudes \n",
    "# (e.g., make unserved more costly than late), \n",
    "# but report your values in your markdown and keep them constant for all experiments.\n",
    "\n",
    "# function may include: \n",
    "# route_distance\n",
    "# simulate_route_timing\n",
    "# evaluate_solution\n",
    "# etc."
   ]
  },
  {
   "cell_type": "code",
   "execution_count": null,
   "id": "de816301",
   "metadata": {},
   "outputs": [],
   "source": []
  },
  {
   "cell_type": "markdown",
   "id": "79f8d501",
   "metadata": {},
   "source": [
    "# 2 Part 1-Biologically Inspired Optimisation (GA & ACO) \n",
    "\n",
    "You must design, implement, and evaluate biologically inspired algorithms from Genetic Algorithms (GA) and Ant Colony Optimization (ACO) to solve the CVRPTW scheduling problem.\n",
    "\n",
    "**Theoretical Design (Critical Thinking)** (Report)\n",
    "1. Explain how this problem differs from the classical TSP, and why standard binary encoding is unsuitable.\n",
    "2. Propose how you will adapt GA to solve this problem:\n",
    "    - Candidate representation (permutation or alternative).\n",
    "    - Crossover and mutation operators.\n",
    "    - Fitness function design (must account for distance + battery + time windows).\n",
    "3. Propose how you will adapt ACO to solve this problem:\n",
    "    - Pheromone representation.\n",
    "    - Visibility ($\\eta$) and how it incorporates both distance and time feasibility.\n",
    "    - Evaporation rules.\n",
    "4. Critically discuss trade-offs between GA and ACO for this problem (exploration, exploitation, scalability).\n",
    "\n",
    "**Implementation (Python Project)** (Code)\n",
    "1. Implement Genetic Algorithm (GA):\n",
    "    - Representation: routes assigned to drones (permutation or multi-route encoding).\n",
    "    - Variation: ordered crossover, plus mutation adapted for multi-route constraints.\n",
    "    - Fitness: penalise infeasible solutions (exceeding battery/time windows).\n",
    "2. Implement Ant Colony Optimization (ACO):\n",
    "    - Transition probability formula based on pheromone + visibility.\n",
    "    - Pheromone update with evaporation and deposit.\n",
    "    - Ensure feasible route construction under constraints.\n",
    "3. Apply your implementations on provided dataset and with pre-defined metrics.\n",
    "\n",
    "**Experimental Study (Analysis)** (Code + Report)\n",
    "1. Report best and average performance for each algorithm on the dataset.\n",
    "2. Present convergence behaviour (fitness vs generation/iteration).\n",
    "3. Perform parameter sensitivity analysis:\n",
    "    - For GA: vary population size or mutation rate.\n",
    "    - For ACO: vary $\\alpha$, $\\beta$, and evaporation rate $\\rho$.\n",
    "4. Discuss how design choices affected performance, linking results to your theoretical expectations.\n",
    "\n",
    "**Reflection (Critical Evaluation)** (Report)\n",
    "1. Which algorithm performed better, and why?\n",
    "2. Did your theoretical expectations (Part 1) match experimental results? Why or why not?\n",
    "3. Propose one novel extension (e.g., hybrid GA–ACO, adaptive mutation/evaporation) and explain how it could improve performance for large-scale problems (>1000 locations).\n",
    "4. Reflect on the strengths and weaknesses of your implementations.\n",
    "\n",
    "_Report length: approximately 800 words (total for 2.1, 2.2, 2.3 and 2.4). There is no length limit for code._"
   ]
  },
  {
   "cell_type": "markdown",
   "id": "39e32c47",
   "metadata": {},
   "source": [
    "## 2.1 Theoretical Design\n",
    "\n",
    "TODO(you)"
   ]
  },
  {
   "cell_type": "markdown",
   "id": "62c1cbdf",
   "metadata": {},
   "source": [
    "## 2.2 Implementation (Python Project)"
   ]
  },
  {
   "cell_type": "code",
   "execution_count": null,
   "id": "2ceb606d",
   "metadata": {},
   "outputs": [],
   "source": [
    "# TODO(you)"
   ]
  },
  {
   "cell_type": "markdown",
   "id": "873c712a",
   "metadata": {},
   "source": [
    "## 2.3 Experimental Study"
   ]
  },
  {
   "cell_type": "code",
   "execution_count": null,
   "id": "b61b39db",
   "metadata": {},
   "outputs": [],
   "source": [
    "# TODO(you) Code can be combined in 2.2. Report must be written under 2.3"
   ]
  },
  {
   "cell_type": "markdown",
   "id": "a232957a",
   "metadata": {},
   "source": [
    "TODO(you) analysis for Experimental Study"
   ]
  },
  {
   "cell_type": "markdown",
   "id": "d3fb64ec",
   "metadata": {},
   "source": [
    "## 2.4 Reflection\n",
    "\n",
    "TODO(you)"
   ]
  },
  {
   "cell_type": "markdown",
   "id": "b410a620",
   "metadata": {},
   "source": [
    "---\n",
    "# 3 Part 2-Adversarial Search (Negamax/$\\alpha$–$\\beta$) in Competitive Routing\n",
    "\n",
    "Model the competition between two fleets as a turn-based, zero-sum game and implement Negamax with $\\alpha–\\beta$ pruning to choose actions. You must reuse the same evaluator from §1.2 to derive utilities from completed plans.\n",
    "\n",
    "What you must submit in this part\n",
    "\n",
    "**Theoretical Design (Critical Thinking)** (Report)\n",
    "\n",
    "- Game model: define state, actions, transition, terminal condition.\n",
    "- Utility: explain how you map the shared instance to two route sets and compute a zero-sum utility using your §1.2 evaluator.\n",
    "- Pruning & ordering: describe your $\\alpha–\\beta$ implementation and any move ordering (e.g., greedy top-k by time-window urgency).\n",
    "- Abstractions/limits: justify any depth limits, candidate pruning, or heuristic cutoffs to control branching.\n",
    "\n",
    "**Implementation (Python Project)** (Code)\n",
    "\n",
    "- A game engine with `State`, `legal_moves`, `apply_move`, `is_terminal`, `utility`.\n",
    "- Negamax $\\alpha–\\beta$ with depth limit and (at least basic) move ordering.\n",
    "- A demo that prints best move/value from the initial state and the number of nodes expanded.\n",
    "\n",
    "**Reflection (Critical Evaluation)** (Report)\n",
    "\n",
    "- What move does Negamax prefer from the start?\n",
    "- Does move ordering reduce node expansions? (Show counts for “with vs without ordering” at fixed depth.)\n",
    "\n",
    "_Report length for Part 2 theory: approximately 500–700 words, Reflection: 2–4 sentences. There is no length limit for code._\n",
    "\n",
    "**Constraints**\n",
    "\n",
    "- Use only the provided `INSTANCE`.\n",
    "- Keep the game deterministic (no dice rolls here).\n",
    "- Your utility must be consistent with §1.2 (same constants/policies).\n",
    "- Respect computational limits: depth-limit and/or candidate pruning is encouraged; document your choices."
   ]
  },
  {
   "cell_type": "markdown",
   "id": "1967a4c7",
   "metadata": {},
   "source": [
    "## 3.1 Theoretical Design\n",
    "\n",
    "TODO(you)"
   ]
  },
  {
   "cell_type": "markdown",
   "id": "a9b85c89",
   "metadata": {},
   "source": [
    "## 3.2 Implementation (Python Project)"
   ]
  },
  {
   "cell_type": "code",
   "execution_count": null,
   "id": "e062dc4a",
   "metadata": {},
   "outputs": [],
   "source": [
    "# TODO(you)"
   ]
  },
  {
   "cell_type": "markdown",
   "id": "24354cc6",
   "metadata": {},
   "source": [
    "TODO(you) analysis for Experimental Study (various settings in Implementation)"
   ]
  },
  {
   "cell_type": "markdown",
   "id": "f6e6d990",
   "metadata": {},
   "source": [
    "## 3.3 Reflection\n",
    "\n",
    "TODO(you)"
   ]
  },
  {
   "cell_type": "markdown",
   "id": "a7d1a57f",
   "metadata": {},
   "source": [
    "---\n",
    "# 4 Part 3-Strategic Decision Making in Competitive Drone Routing\n",
    "\n",
    "Your company has now faced repeated interactions with its competitor in the delivery market. Instead of a one-shot adversarial search, the competition is ongoing. Each day both fleets decide on strategies not just to maximise immediate payoff, but to anticipate the other’s moves, coordinate when beneficial, and adapt across repeated encounters. Market regulators may also introduce auction-based bidding for access to certain delivery slots (prime time windows, high-demand areas).\n",
    "\n",
    "You must analyse this evolving competition using **game theory** for this part.\n",
    "\n",
    "**Theoretical Analysis (Critical Thinking)** (Report)\n",
    "1. Formal game model: players, strategy sets, outcome mapping, and payoffs (computed with your §1.2 evaluator).\n",
    "2. Dominance & equilibria: identify dominant strategies (if any), compute Nash equilibrium (NE) for a simplified 2×2 game, and discuss Pareto optimality.\n",
    "3. Repeated games: explain how strategies like Always Cooperate (AC), Always Defect (AD), Tit-for-Tat (TFT) can sustain cooperation; when they fail. (Tit-for-Tat: Start by cooperating. Then copy your opponent’s last move—cooperate if they cooperated last round; defect if they defected.)\n",
    "4. (Optional) Auctions: briefly reason about first-price vs Vickrey bidding and truthful vs shaded behavior.\n",
    "    \n",
    "**Implementation (Python Project)** (Code)\n",
    "1. One-shot game: build a small 2×2 payoff matrix from two concrete policies per player; auto-check best responses and NE.\n",
    "2. Repeated game: simulate multiple rounds with strategy profiles and plot cumulative payoffs.\n",
    "3. (Optional) Auctions: first-price & Vickrey simulation with a few valuations; short comparison.\n",
    "\n",
    "**Reflection (Critical Evaluation)** (Report)\n",
    "1. Show your 2×2 matrix, report NE (and whether it’s Pareto-optimal).\n",
    "2. For repeated games, discuss the payoffs.\n",
    "\n",
    "_Report length for Part 3 theory: approximately 500–700 words (total). There is no length limit for code._"
   ]
  },
  {
   "cell_type": "markdown",
   "id": "0a89b463",
   "metadata": {},
   "source": [
    "## 4.1 Theoretical Design\n",
    "\n",
    "TODO(you)"
   ]
  },
  {
   "cell_type": "markdown",
   "id": "c602fc69",
   "metadata": {},
   "source": [
    "## 4.2 Implementation (Python Project)"
   ]
  },
  {
   "cell_type": "code",
   "execution_count": null,
   "id": "94a74167",
   "metadata": {},
   "outputs": [],
   "source": [
    "# TODO(you) one-shot game model"
   ]
  },
  {
   "cell_type": "code",
   "execution_count": null,
   "id": "1ebbec16",
   "metadata": {},
   "outputs": [],
   "source": [
    "# TODO(you) repeated game"
   ]
  },
  {
   "cell_type": "markdown",
   "id": "72c42409",
   "metadata": {},
   "source": [
    "TODO(you) analysis for Experimental Study (various settings in Implementation)"
   ]
  },
  {
   "cell_type": "markdown",
   "id": "373295e1",
   "metadata": {},
   "source": [
    "## 4.3 Reflection\n",
    "\n",
    "TODO(you)"
   ]
  },
  {
   "cell_type": "markdown",
   "id": "4f49bd56",
   "metadata": {},
   "source": [
    "---\n",
    "## Marking Rubric (30 marks total)\n",
    "| Criterion | Marks | Description |\n",
    "|---|---:|---|\n",
    "| **Theoretical Design & Modeling** | 12 | Clear formalisation of the CVRPTW setting (vs TSP); justified GA (representation, operators, repair) and ACO (pheromone, visibility, updates) designs; coherent game-theoretic modelling in Part 3 (players, strategies, outcome mapping); correct identification/analysis of best responses, NE, Pareto; all fitness/utility definitions explicitly tied to the single §1.2 evaluator. |\n",
    "| **Implementation** | 9 | Correct, readable, and modular code for GA, ACO, and Negamax α–β (plus repeated-game simulator); solutions run end-to-end on the provided inline dataset; consistent reuse of the same evaluator across Parts 1–3; seeding for reproducibility; code choices trace back to the Theory (e.g., operators ↔ constraints, move ordering ↔ urgency). |\n",
    "| **Experimental Study** | 3 | Sound experiments with meaningful settings (e.g., generations/ants/depth, candidate pruning); clear plots/tables (e.g., convergence curves, 2×2 payoff matrix, repeated-game trajectories); results interpreted with adequate depth; findings connected to theory. |\n",
    "| **Reflection & Critical Evaluation** | 6 | Insightful discussion comparing theory vs. empirical results; trade-offs (exploration/exploitation, feasibility handling, pruning effects); limitations and threats to validity (seed sensitivity, hyperparameters, abstraction gaps); original suggestions (e.g., hybridisation, improved visibility, TFT). |"
   ]
  }
 ],
 "metadata": {
  "kernelspec": {
   "display_name": "base",
   "language": "python",
   "name": "python3"
  },
  "language_info": {
   "codemirror_mode": {
    "name": "ipython",
    "version": 3
   },
   "file_extension": ".py",
   "mimetype": "text/x-python",
   "name": "python",
   "nbconvert_exporter": "python",
   "pygments_lexer": "ipython3",
   "version": "3.13.5"
  }
 },
 "nbformat": 4,
 "nbformat_minor": 5
}
